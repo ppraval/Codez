{
 "cells": [
  {
   "cell_type": "code",
   "execution_count": 1,
   "metadata": {},
   "outputs": [],
   "source": [
    "import torch\n",
    "from torch import nn\n",
    "from d2l import torch as d2l"
   ]
  },
  {
   "cell_type": "code",
   "execution_count": 2,
   "metadata": {},
   "outputs": [],
   "source": [
    "def corr2d(X, K):\n",
    "    \"\"\"Compute 2D cross-correlation.\"\"\"\n",
    "    h, w = K.shape\n",
    "    Y = torch.zeros(X.shape[0] - h + 1, X.shape[1] - w + 1)\n",
    "    for i in range(Y.shape[0]):\n",
    "        for j in range(Y.shape[1]):\n",
    "            Y[i, j] = (X[i:i + h, j:j + w] * K).sum()\n",
    "    return Y"
   ]
  },
  {
   "cell_type": "code",
   "execution_count": 3,
   "metadata": {},
   "outputs": [
    {
     "data": {
      "text/plain": [
       "tensor([[19., 25.],\n",
       "        [37., 43.]])"
      ]
     },
     "execution_count": 3,
     "metadata": {},
     "output_type": "execute_result"
    }
   ],
   "source": [
    "X = torch.tensor([[0.0, 1.0, 2.0], [3.0, 4.0, 5.0], [6.0, 7.0, 8.0]])\n",
    "K = torch.tensor([[0.0, 1.0], [2.0, 3.0]])\n",
    "corr2d(X, K)"
   ]
  },
  {
   "cell_type": "code",
   "execution_count": 4,
   "metadata": {},
   "outputs": [],
   "source": [
    "class Conv2D(nn.Module):\n",
    "    def __init__(self, kernel_size):\n",
    "        super().__init__()\n",
    "        self.weight = nn.Parameter(torch.rand(kernel_size))\n",
    "        self.bias = nn.Parameter(torch.zeros(1))\n",
    "    def forward(self, X):\n",
    "        return corr2d(X, self.weight) + self.bias"
   ]
  },
  {
   "cell_type": "code",
   "execution_count": 17,
   "metadata": {},
   "outputs": [
    {
     "data": {
      "text/plain": [
       "tensor([[1., 1., 0., 0., 0., 0., 1., 1.],\n",
       "        [1., 1., 0., 0., 0., 0., 1., 1.],\n",
       "        [1., 1., 0., 0., 0., 0., 1., 1.],\n",
       "        [1., 1., 0., 0., 0., 0., 1., 1.],\n",
       "        [1., 1., 0., 0., 0., 0., 1., 1.],\n",
       "        [1., 1., 0., 0., 0., 0., 1., 1.]])"
      ]
     },
     "execution_count": 17,
     "metadata": {},
     "output_type": "execute_result"
    }
   ],
   "source": [
    "# input image\n",
    "X = torch.ones((6, 8))\n",
    "X[:, 2:6] = 0\n",
    "X\n",
    "# this has vertical edges"
   ]
  },
  {
   "cell_type": "code",
   "execution_count": 18,
   "metadata": {},
   "outputs": [
    {
     "data": {
      "text/plain": [
       "tensor([[ 1., -1.]])"
      ]
     },
     "execution_count": 18,
     "metadata": {},
     "output_type": "execute_result"
    }
   ],
   "source": [
    "# kernel that detects edges where 1 detects white to black and -1 detects black to white\n",
    "K = torch.tensor([[1.0, -1.0]])\n",
    "K"
   ]
  },
  {
   "cell_type": "code",
   "execution_count": 19,
   "metadata": {},
   "outputs": [
    {
     "data": {
      "text/plain": [
       "tensor([[ 0.,  1.,  0.,  0.,  0., -1.,  0.],\n",
       "        [ 0.,  1.,  0.,  0.,  0., -1.,  0.],\n",
       "        [ 0.,  1.,  0.,  0.,  0., -1.,  0.],\n",
       "        [ 0.,  1.,  0.,  0.,  0., -1.,  0.],\n",
       "        [ 0.,  1.,  0.,  0.,  0., -1.,  0.],\n",
       "        [ 0.,  1.,  0.,  0.,  0., -1.,  0.]])"
      ]
     },
     "execution_count": 19,
     "metadata": {},
     "output_type": "execute_result"
    }
   ],
   "source": [
    "Y = corr2d(X, K)\n",
    "Y"
   ]
  },
  {
   "cell_type": "code",
   "execution_count": 13,
   "metadata": {},
   "outputs": [
    {
     "data": {
      "text/plain": [
       "tensor([[0., 0., 0., 0., 0.],\n",
       "        [0., 0., 0., 0., 0.],\n",
       "        [0., 0., 0., 0., 0.],\n",
       "        [0., 0., 0., 0., 0.],\n",
       "        [0., 0., 0., 0., 0.],\n",
       "        [0., 0., 0., 0., 0.],\n",
       "        [0., 0., 0., 0., 0.],\n",
       "        [0., 0., 0., 0., 0.]])"
      ]
     },
     "execution_count": 13,
     "metadata": {},
     "output_type": "execute_result"
    }
   ],
   "source": [
    "# now we find the transpose's edges which are vertical\n",
    "Y = corr2d(X.t(), K)\n",
    "Y"
   ]
  },
  {
   "cell_type": "markdown",
   "metadata": {},
   "source": [
    "As expected we see all 0s since there are no vertical edges here"
   ]
  },
  {
   "cell_type": "code",
   "execution_count": 20,
   "metadata": {},
   "outputs": [
    {
     "name": "stdout",
     "output_type": "stream",
     "text": [
      "tensor([[[[0.3317, 0.3211, 0.0000, 0.0000, 0.0000, 0.0105, 0.3317],\n",
      "          [0.3317, 0.3211, 0.0000, 0.0000, 0.0000, 0.0105, 0.3317],\n",
      "          [0.3317, 0.3211, 0.0000, 0.0000, 0.0000, 0.0105, 0.3317],\n",
      "          [0.3317, 0.3211, 0.0000, 0.0000, 0.0000, 0.0105, 0.3317],\n",
      "          [0.3317, 0.3211, 0.0000, 0.0000, 0.0000, 0.0105, 0.3317],\n",
      "          [0.3317, 0.3211, 0.0000, 0.0000, 0.0000, 0.0105, 0.3317]]]],\n",
      "       grad_fn=<ConvolutionBackward0>)\n",
      "tensor([[[[-0.2653,  0.3267,  0.0000,  0.0000,  0.0000, -0.5921, -0.2653],\n",
      "          [-0.2653,  0.3267,  0.0000,  0.0000,  0.0000, -0.5921, -0.2653],\n",
      "          [-0.2653,  0.3267,  0.0000,  0.0000,  0.0000, -0.5921, -0.2653],\n",
      "          [-0.2653,  0.3267,  0.0000,  0.0000,  0.0000, -0.5921, -0.2653],\n",
      "          [-0.2653,  0.3267,  0.0000,  0.0000,  0.0000, -0.5921, -0.2653],\n",
      "          [-0.2653,  0.3267,  0.0000,  0.0000,  0.0000, -0.5921, -0.2653]]]],\n",
      "       grad_fn=<ConvolutionBackward0>)\n",
      "epoch 2, loss 4.563\n",
      "tensor([[[[ 0.2123,  0.7601,  0.0000,  0.0000,  0.0000, -0.5479,  0.2123],\n",
      "          [ 0.2123,  0.7601,  0.0000,  0.0000,  0.0000, -0.5479,  0.2123],\n",
      "          [ 0.2123,  0.7601,  0.0000,  0.0000,  0.0000, -0.5479,  0.2123],\n",
      "          [ 0.2123,  0.7601,  0.0000,  0.0000,  0.0000, -0.5479,  0.2123],\n",
      "          [ 0.2123,  0.7601,  0.0000,  0.0000,  0.0000, -0.5479,  0.2123],\n",
      "          [ 0.2123,  0.7601,  0.0000,  0.0000,  0.0000, -0.5479,  0.2123]]]],\n",
      "       grad_fn=<ConvolutionBackward0>)\n",
      "tensor([[[[-0.1698,  0.6937,  0.0000,  0.0000,  0.0000, -0.8635, -0.1698],\n",
      "          [-0.1698,  0.6937,  0.0000,  0.0000,  0.0000, -0.8635, -0.1698],\n",
      "          [-0.1698,  0.6937,  0.0000,  0.0000,  0.0000, -0.8635, -0.1698],\n",
      "          [-0.1698,  0.6937,  0.0000,  0.0000,  0.0000, -0.8635, -0.1698],\n",
      "          [-0.1698,  0.6937,  0.0000,  0.0000,  0.0000, -0.8635, -0.1698],\n",
      "          [-0.1698,  0.6937,  0.0000,  0.0000,  0.0000, -0.8635, -0.1698]]]],\n",
      "       grad_fn=<ConvolutionBackward0>)\n",
      "epoch 4, loss 1.021\n",
      "tensor([[[[ 0.1359,  0.9262,  0.0000,  0.0000,  0.0000, -0.7904,  0.1359],\n",
      "          [ 0.1359,  0.9262,  0.0000,  0.0000,  0.0000, -0.7904,  0.1359],\n",
      "          [ 0.1359,  0.9262,  0.0000,  0.0000,  0.0000, -0.7904,  0.1359],\n",
      "          [ 0.1359,  0.9262,  0.0000,  0.0000,  0.0000, -0.7904,  0.1359],\n",
      "          [ 0.1359,  0.9262,  0.0000,  0.0000,  0.0000, -0.7904,  0.1359],\n",
      "          [ 0.1359,  0.9262,  0.0000,  0.0000,  0.0000, -0.7904,  0.1359]]]],\n",
      "       grad_fn=<ConvolutionBackward0>)\n",
      "tensor([[[[-0.1087,  0.8550,  0.0000,  0.0000,  0.0000, -0.9636, -0.1087],\n",
      "          [-0.1087,  0.8550,  0.0000,  0.0000,  0.0000, -0.9636, -0.1087],\n",
      "          [-0.1087,  0.8550,  0.0000,  0.0000,  0.0000, -0.9636, -0.1087],\n",
      "          [-0.1087,  0.8550,  0.0000,  0.0000,  0.0000, -0.9636, -0.1087],\n",
      "          [-0.1087,  0.8550,  0.0000,  0.0000,  0.0000, -0.9636, -0.1087],\n",
      "          [-0.1087,  0.8550,  0.0000,  0.0000,  0.0000, -0.9636, -0.1087]]]],\n",
      "       grad_fn=<ConvolutionBackward0>)\n",
      "epoch 6, loss 0.276\n",
      "tensor([[[[ 0.0869,  0.9854,  0.0000,  0.0000,  0.0000, -0.8985,  0.0869],\n",
      "          [ 0.0869,  0.9854,  0.0000,  0.0000,  0.0000, -0.8985,  0.0869],\n",
      "          [ 0.0869,  0.9854,  0.0000,  0.0000,  0.0000, -0.8985,  0.0869],\n",
      "          [ 0.0869,  0.9854,  0.0000,  0.0000,  0.0000, -0.8985,  0.0869],\n",
      "          [ 0.0869,  0.9854,  0.0000,  0.0000,  0.0000, -0.8985,  0.0869],\n",
      "          [ 0.0869,  0.9854,  0.0000,  0.0000,  0.0000, -0.8985,  0.0869]]]],\n",
      "       grad_fn=<ConvolutionBackward0>)\n",
      "tensor([[[[-0.0696,  0.9281,  0.0000,  0.0000,  0.0000, -0.9976, -0.0696],\n",
      "          [-0.0696,  0.9281,  0.0000,  0.0000,  0.0000, -0.9976, -0.0696],\n",
      "          [-0.0696,  0.9281,  0.0000,  0.0000,  0.0000, -0.9976, -0.0696],\n",
      "          [-0.0696,  0.9281,  0.0000,  0.0000,  0.0000, -0.9976, -0.0696],\n",
      "          [-0.0696,  0.9281,  0.0000,  0.0000,  0.0000, -0.9976, -0.0696],\n",
      "          [-0.0696,  0.9281,  0.0000,  0.0000,  0.0000, -0.9976, -0.0696]]]],\n",
      "       grad_fn=<ConvolutionBackward0>)\n",
      "epoch 8, loss 0.089\n",
      "tensor([[[[ 0.0556,  1.0040,  0.0000,  0.0000,  0.0000, -0.9484,  0.0556],\n",
      "          [ 0.0556,  1.0040,  0.0000,  0.0000,  0.0000, -0.9484,  0.0556],\n",
      "          [ 0.0556,  1.0040,  0.0000,  0.0000,  0.0000, -0.9484,  0.0556],\n",
      "          [ 0.0556,  1.0040,  0.0000,  0.0000,  0.0000, -0.9484,  0.0556],\n",
      "          [ 0.0556,  1.0040,  0.0000,  0.0000,  0.0000, -0.9484,  0.0556],\n",
      "          [ 0.0556,  1.0040,  0.0000,  0.0000,  0.0000, -0.9484,  0.0556]]]],\n",
      "       grad_fn=<ConvolutionBackward0>)\n",
      "tensor([[[[-0.0445,  0.9625,  0.0000,  0.0000,  0.0000, -1.0070, -0.0445],\n",
      "          [-0.0445,  0.9625,  0.0000,  0.0000,  0.0000, -1.0070, -0.0445],\n",
      "          [-0.0445,  0.9625,  0.0000,  0.0000,  0.0000, -1.0070, -0.0445],\n",
      "          [-0.0445,  0.9625,  0.0000,  0.0000,  0.0000, -1.0070, -0.0445],\n",
      "          [-0.0445,  0.9625,  0.0000,  0.0000,  0.0000, -1.0070, -0.0445],\n",
      "          [-0.0445,  0.9625,  0.0000,  0.0000,  0.0000, -1.0070, -0.0445]]]],\n",
      "       grad_fn=<ConvolutionBackward0>)\n",
      "epoch 10, loss 0.033\n"
     ]
    }
   ],
   "source": [
    "# Construct a two-dimensional convolutional layer with 1 output channel and a\n",
    "# kernel of shape (1, 2). For the sake of simplicity, we ignore the bias here\n",
    "conv2d = nn.LazyConv2d(1, kernel_size=(1, 2), bias=False)\n",
    "\n",
    "# The two-dimensional convolutional layer uses four-dimensional input and\n",
    "# output in the format of (example, channel, height, width), where the batch\n",
    "# size (number of examples in the batch) and the number of channels are both 1\n",
    "X = X.reshape((1, 1, 6, 8))\n",
    "Y = Y.reshape((1, 1, 6, 7))\n",
    "lr = 3e-2  # Learning rate\n",
    "\n",
    "for i in range(10):\n",
    "    Y_hat = conv2d(X)\n",
    "    # print(Y_hat)\n",
    "    l = (Y_hat - Y) ** 2\n",
    "    conv2d.zero_grad()\n",
    "    l.sum().backward()\n",
    "    # Update the kernel\n",
    "    conv2d.weight.data[:] -= lr * conv2d.weight.grad\n",
    "    if (i + 1) % 2 == 0:\n",
    "        print(f'epoch {i + 1}, loss {l.sum():.3f}')"
   ]
  },
  {
   "cell_type": "code",
   "execution_count": 9,
   "metadata": {},
   "outputs": [
    {
     "data": {
      "text/plain": [
       "tensor([[ 1.0113, -0.9623]])"
      ]
     },
     "execution_count": 9,
     "metadata": {},
     "output_type": "execute_result"
    }
   ],
   "source": [
    "conv2d.weight.data.reshape((1, 2))"
   ]
  }
 ],
 "metadata": {
  "kernelspec": {
   "display_name": ".venv",
   "language": "python",
   "name": "python3"
  },
  "language_info": {
   "codemirror_mode": {
    "name": "ipython",
    "version": 3
   },
   "file_extension": ".py",
   "mimetype": "text/x-python",
   "name": "python",
   "nbconvert_exporter": "python",
   "pygments_lexer": "ipython3",
   "version": "3.10.11"
  }
 },
 "nbformat": 4,
 "nbformat_minor": 2
}
